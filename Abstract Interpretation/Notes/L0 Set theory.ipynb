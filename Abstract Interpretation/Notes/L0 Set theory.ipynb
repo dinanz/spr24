{
 "cells": [
  {
   "cell_type": "markdown",
   "metadata": {},
   "source": [
    "# Set theory"
   ]
  },
  {
   "cell_type": "markdown",
   "metadata": {},
   "source": [
    "### Syntax\n",
    "- x ≜ DEF: x is defined by the right hand side\n",
    "- Set definition:\n",
    "    - extension: lists items thatt a set may include\n",
    "    - intention: lists properties all elements of set must include\n",
    "- Cartesian product of sets A and B: A x B where (a,b) all ordered possible paires\n",
    "- P ∨ Q: disjunction (intersection)\n",
    "- P ∧ Q: conjunction (union)\n",
    "- binary relation r ∈ ℘(S × S′): set of pairs <x, y> ∈ r of related elements x ∈ S and y ∈ S'\n",
    "    - <x, y>: x is the origin; y the extremity\n",
    "- functional relation: x can only have 1 extremity\n",
    "- total relation: any origin has at least one extremity\n",
    "- equivalence relation on S is reflexive, symmetric, and transitive\n",
    "- partial order <= is reflexive, antisymmetric, transitive"
   ]
  }
 ],
 "metadata": {
  "language_info": {
   "name": "python"
  }
 },
 "nbformat": 4,
 "nbformat_minor": 2
}
