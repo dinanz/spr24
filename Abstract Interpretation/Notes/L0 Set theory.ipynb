{
 "cells": [
  {
   "cell_type": "markdown",
   "metadata": {},
   "source": [
    "# Set theory"
   ]
  },
  {
   "cell_type": "markdown",
   "metadata": {},
   "source": [
    "### Syntax\n",
    "- x ≜ DEF: x is defined by the right hand side\n",
    "- Set definition:\n",
    "    - extension: lists items thatt a set may include\n",
    "    - intention: lists properties all elements of set must include\n",
    "- Cartesian product of sets A and B: A x B where (a,b) all ordered possible paires\n",
    "- P ∨ Q: disjunction (intersection)\n",
    "- P ∧ Q: conjunction (union)\n",
    "- binary relation r ∈ ℘(S × S′): set of pairs <x, y> ∈ r of related elements x ∈ S and y ∈ S'\n",
    "    - <x, y>: x is the origin; y the extremity\n",
    "- functional relation: x can only have 1 extremity\n",
    "- total relation: any origin has at least one extremity\n",
    "- equivalence relation on S is reflexive, symmetric, and transitive\n",
    "- partial order <= is reflexive, antisymmetric, transitive\n",
    "### Relations\n",
    "- Types of relations\n",
    "    - `Reflexive`: xrx\n",
    "    - `Symmetric`: xry<->yrx\n",
    "    - `Antisymmetric`: if xry then y!rx unless x=y\n",
    "    - `Transitive`: xry ^ yrz  ->  xrz\n",
    "### Functions\n",
    "- Partial function 𝑓∈𝑆1 -/> S2\n",
    "    - A relation mapping x∈S1 to y∈S2 if the relation exists\n",
    "    - if no y exists at an x such that xry, then the function is undefined at x\n",
    "    - fx or f<sub>x</sub> for f(x)\n",
    "- Total function 𝑓∈𝑆1 -> S2\n",
    "    - Defined for all x\n",
    "- Dependent function 𝑓∈ 𝑥∈𝑆1 →𝑆2(𝑥)\n",
    "    - Maps each x∈S1 to a set S2(x)\n",
    "- Characgeristic function\n",
    "    - characteristic function cs of a set S:\n",
    "    - c𝑆 ≜ 𝑥∈U ↦ ( 𝑥∈𝑆 ? tt : ff )\n",
    "- Properties of functions\n",
    "    - Injective: one to tone for all x\n",
    "    - Surjective: all y is mapped to\n",
    "    - Bijective: both injective and surjective\n",
    "- Isomorphism\n",
    "    - two sets are isomorphic if there is a bijection of S1 onto S2\n",
    "    - have same cardinality\n",
    "- Operations\n",
    "    - Right image of a relation 𝑟∈℘(𝑆1 ×𝑆2) of power set\n",
    "        -  𝑥∈𝑆1 ↦{𝑦∈𝑆2 ∣⟨𝑥,𝑦⟩∈𝑟}∈𝑆1 →℘(𝑆2)\n",
    "- Pointwise definitions\n",
    "    - f,g -> ∀𝑥.𝑟(𝑓(𝑥),𝑔(𝑥))"
   ]
  }
 ],
 "metadata": {
  "language_info": {
   "name": "python"
  }
 },
 "nbformat": 4,
 "nbformat_minor": 2
}
