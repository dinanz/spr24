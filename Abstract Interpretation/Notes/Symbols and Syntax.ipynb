{
 "cells": [
  {
   "cell_type": "markdown",
   "metadata": {},
   "source": [
    "# Symbols"
   ]
  },
  {
   "cell_type": "markdown",
   "metadata": {},
   "source": [
    "- Sets\n",
    "    - ∅: empty set\n",
    "    - x ∈ S: x is an element of S\n",
    "    - N: set of all natural numbers (e.g.1 0, 1, 7, 42)\n",
    "    - N+: set of all strictly positive natural numbers (e.g. 1, 7, 42)\n",
    "    - Z: set of all integer numbers (e.g. -42, -7, -1, 0, 1, 7, 42)\n",
    "    - U: universal set\n",
    "    - R: set of all real numbers (e.g. -3.14, 0, 1, 2.5, 𝜋)\n",
    "    - B ≜ {tt ,ff}: set of booleans (tt : true, ff: false)\n",
    "    - 𝑆 ≜ {𝑥∣𝑝(𝑥)}: set of all x where p(x)\n",
    "    - [l,u]: closed interval\n",
    "    - ⊆: inclusion, A ⊆ B means A is a subset of B\n",
    "    - |𝑆|: cardinality of a set, num of elements\n",
    "    - ℘(𝑆): power set of S (all subsets)\n",
    "    - ∪: union of sets\n",
    "    - ∩: intersection of sets\n",
    "    - \\: difference of sets\n",
    "    - ¬: complement of set with respect to another set\n",
    "    - ×: cartesian product\n",
    "- ≜: definition\n",
    "- ∏: total multiplication (same as sigma, but x instead of +) upper case pi\n",
    "- Boolean operators\n",
    "    - ∨: disjunction, or\n",
    "    - ∧: conjunction, and\n",
    "    - ¬: negation\n",
    "    - ⇒: implication\n",
    "    - ⇔: iff\n",
    "- Quantifiers\n",
    "    - ∃𝑥.𝑃(𝑥): existential quantifier for P depending on x\n",
    "    - ∀𝑥.𝑃(𝑥): universal all quantifier for P depending on x\n",
    "- Relations\n",
    "    - 𝑟 ∈ ℘(𝑆×𝑆′): binary relation\n",
    "    - ⟨𝑥, 𝑦⟩ ∈ 𝑟: set of pairs; x is the origin, y the extremity\n",
    "    - x r y: x related to y\n",
    "    - ;: composition of relations\n",
    "    - r<sup>-1</sup>: inverse of relation\n",
    "- Functions\n",
    "    - -> mapping\n",
    "    - -/> partial mapping for functions on partial relations"
   ]
  }
 ],
 "metadata": {
  "language_info": {
   "name": "python"
  }
 },
 "nbformat": 4,
 "nbformat_minor": 2
}
