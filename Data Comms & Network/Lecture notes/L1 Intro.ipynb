{
 "cells": [
  {
   "cell_type": "markdown",
   "metadata": {},
   "source": [
    "# L1 Intro"
   ]
  },
  {
   "cell_type": "markdown",
   "metadata": {},
   "source": [
    "### Course topic overview\n",
    "1. COmputer networks and the Internet\n",
    "    - Packet switching\n",
    "    - OSI and IPA\n",
    "    - IP\n",
    "2. Application Layer\n",
    "    - Sockets\n",
    "3. Transport Layer\n",
    "    - Congestion control and flow control methods\n",
    "    - Fundamental data strucutre\n",
    "4. Network Data Plane\n",
    "5. Network Control Plane\n",
    "    - Network (packet) routing algorithms\n",
    "    - IP multicast\n",
    "6. Link Layer and LANs\n",
    "    - Links, access networks, LANs\n",
    "    - LAN and Data link control\n",
    "7. Physical layer\n",
    "    - Data encoding and transmission\n",
    "8. Wireless and mobile networks\n",
    "    - Wireless communication\n",
    "9. Network security"
   ]
  },
  {
   "cell_type": "markdown",
   "metadata": {},
   "source": [
    "### What is the Internet\n",
    "- Connected computing devices\n",
    "    - hosts = end systems\n",
    "    - running network apps at the Internet's edge\n",
    "- Packet switches\n",
    "    - forward packets (chunks of data)\n",
    "    - routers\n",
    "    - switches\n",
    "- Communication links\n",
    "    - fiber, copper, radio, satellite\n",
    "    - bandwidth: transmission rate\n",
    "- Networks\n",
    "    - collection of devices, routers, links, managed by an organisation\n",
    "- Static configuration of infrasutrcture pillars\n",
    "    - Past\n",
    "        - Statically configured pillars of compute-memory-storage-network\n",
    "        - Complexity that leads to stasis\n",
    "        - Inability to scale\n",
    "        - Vendor dependence\n",
    "    - Digital age needs:\n",
    "        - Mobile and M2M\n",
    "        - Cloud\n",
    "        - Analytis and social networks\n",
    "- A nuts and bolts view\n",
    "    - Internet: network of networks\n",
    "        - Interconnected ISPs\n",
    "    - Protocols\n",
    "        - controls sending and receiving of messages/data\n",
    "        - e.g. HTTP, TCP, IP, wifi, 4g 5g, Ethernet\n",
    "    - Internet standards\n",
    "        - RFC\n",
    "        - IETF\n",
    "- A services view\n",
    "    - Infrastructure provides services to applications\n",
    "    - provides programming interfaces t distributed applications\n",
    "        - hooks allowing sending/receciving apps to connect to and use itnernet transport service\n",
    "        - provides service options, analogous to postal services"
   ]
  },
  {
   "cell_type": "markdown",
   "metadata": {},
   "source": [
    "### Protocols\n",
    "- all communication activity on the internet is governed by protocols\n",
    "- Protocols define the format, order of messages sent and received, actions taken on message transmission, receipt\n",
    "- e.g.\n",
    "    - TCP connection request\n",
    "    - TCP connection response\n",
    "    - GET < link >\n",
    "    - returns file"
   ]
  },
  {
   "cell_type": "markdown",
   "metadata": {},
   "source": [
    "### Network edge\n",
    "- Network edge\n",
    "    - hosts: clients and servers (servers often in data centers)\n",
    "- Access networks, physical media\n",
    "    - wired/wireless communication links\n",
    "- Network core\n",
    "    - interconnected routers\n",
    "    - network of networks\n",
    "- connecting end systems to edge router\n",
    "    - residential access nets\n",
    "    - institutional acces networks\n",
    "    - mobile access networks\n",
    "- FDM: frequency division multiplexing; different channels transmitted in different frequency bands\n",
    "- Access networks\n",
    "    - Cable based access\n",
    "        - HFC: hybrid fiber coax\n",
    "            - asymmetric, up to 40Mbps-1.2Gbps downstream\n",
    "        - network of cable, fiber attaches homes to ISP router\n",
    "            - homes share access network to cable headend\n",
    "        "
   ]
  }
 ],
 "metadata": {
  "language_info": {
   "name": "python"
  }
 },
 "nbformat": 4,
 "nbformat_minor": 2
}
