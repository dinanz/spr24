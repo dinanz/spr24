{
 "cells": [
  {
   "cell_type": "markdown",
   "metadata": {},
   "source": [
    "# L3 Application layer\n",
    "Feb 5"
   ]
  },
  {
   "cell_type": "markdown",
   "metadata": {},
   "source": [
    "### Topics in application layer\n",
    "- Principles of network applications\n",
    "- Web and HTTP\n",
    "- FTP, E-mail, SMTP, IMAP\n",
    "- The Domain Name System DNS\n",
    "- P2P applications\n",
    "- Video streaming and content distribution networks\n",
    "- Socket programming with UDP and TCP2-6"
   ]
  },
  {
   "cell_type": "markdown",
   "metadata": {},
   "source": [
    "### Application architecture\n",
    "- Client-server\n",
    "- Peer-to-peer (P2P)\n",
    "- Hybrid of above 2"
   ]
  },
  {
   "cell_type": "markdown",
   "metadata": {},
   "source": [
    "### Client-Server\n",
    "- Server:\n",
    "    - always-on host\n",
    "    - Permanent IP address\n",
    "    - Often in data centers for scaling\n",
    "- Client:\n",
    "    - Contacts the server\n",
    "    - May be intermittently connected\n",
    "    - May have dynamic IP address\n",
    "    - Do no communicate directly with each other\n",
    "- E.g. HTTP, IMAP, FTP"
   ]
  },
  {
   "cell_type": "markdown",
   "metadata": {},
   "source": [
    "### P2P\n",
    "- No server\n",
    "- Arbitrary end systems directly communicate with each other\n",
    "- Peers request service from others peers and provide service in return\n",
    "- Self scalability\n",
    "- Complex management\n",
    "- Challenges: security, performance, reliability"
   ]
  },
  {
   "cell_type": "markdown",
   "metadata": {},
   "source": [
    "### Process\n",
    "- Process: program running within a host\n",
    "- Two processes on same host communicate using inter-process communication as defined by the OS\n",
    "- Processes on different hosts communicate by exchanging messages\n",
    "- Client process initiates communication\n",
    "- Processes sends/receives messages from/to its socket\n",
    "- Identifier\n",
    "    - To receive message, process must have identifier\n",
    "    - Host device has unique 32 bit IP\n",
    "    - Identifier includes Ip, port numbers\n",
    "    - e.g.\n",
    "        - IP address: 128.119.245.12\n",
    "        - port number: 80"
   ]
  },
  {
   "cell_type": "markdown",
   "metadata": {},
   "source": [
    "### Application layer protocol\n",
    "- Defines:\n",
    "    - types of messages\n",
    "    - Message syntax\n",
    "    - Message semantics\n",
    "    - Rules\n",
    "- Open protocols:\n",
    "    - Defined in RFCs\n",
    "    - Allows interoperability\n",
    "    - e.g. HTTP, SMTP"
   ]
  },
  {
   "cell_type": "markdown",
   "metadata": {},
   "source": [
    "### Transport service for appp\n",
    "- Data integrity/reliability\n",
    "- Timing\n",
    "- Throughput\n",
    "- Security\n",
    "- Services:\n",
    "    - TCP\n",
    "        - Reliable transport\n",
    "        - Flow control\n",
    "        - Congestion control\n",
    "        - Connection oriented\n",
    "    - UDP\n",
    "        - Unreliable data transfer\n",
    "- Securing TCP\n",
    "    - Vanilla TCP & UDP sockets\n",
    "        - No encryption\n",
    "        - Cleartext all the way\n",
    "    - TLS (transport layer security)\n",
    "        - Provides encrypted TCP connections\n",
    "        - Data integrity\n",
    "        - End to end authentication\n",
    "    - TLS implemented in application layer\n",
    "        - Apps use TLS libraries\n",
    "    - TLS socket API\n",
    "        - Cleartext into socket but traverse internet encrypted"
   ]
  },
  {
   "cell_type": "markdown",
   "metadata": {},
   "source": [
    "### Web and HTTP\n",
    "- Overview\n",
    "    - A web page"
   ]
  }
 ],
 "metadata": {
  "language_info": {
   "name": "python"
  }
 },
 "nbformat": 4,
 "nbformat_minor": 2
}
